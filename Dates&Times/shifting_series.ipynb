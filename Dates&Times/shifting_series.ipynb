{
 "cells": [
  {
   "cell_type": "code",
   "execution_count": 19,
   "id": "022d44f1",
   "metadata": {},
   "outputs": [],
   "source": [
    "import pandas as pd"
   ]
  },
  {
   "cell_type": "code",
   "execution_count": 20,
   "id": "ad08751e",
   "metadata": {},
   "outputs": [],
   "source": [
    "#you can shift a series by a specified number of rowns using the .shift() method\n",
    "# %growth = current period/previous period-1  "
   ]
  },
  {
   "cell_type": "code",
   "execution_count": 21,
   "id": "d095096e",
   "metadata": {},
   "outputs": [
    {
     "data": {
      "text/html": [
       "<div>\n",
       "<style scoped>\n",
       "    .dataframe tbody tr th:only-of-type {\n",
       "        vertical-align: middle;\n",
       "    }\n",
       "\n",
       "    .dataframe tbody tr th {\n",
       "        vertical-align: top;\n",
       "    }\n",
       "\n",
       "    .dataframe thead th {\n",
       "        text-align: right;\n",
       "    }\n",
       "</style>\n",
       "<table border=\"1\" class=\"dataframe\">\n",
       "  <thead>\n",
       "    <tr style=\"text-align: right;\">\n",
       "      <th></th>\n",
       "      <th>id</th>\n",
       "      <th>date</th>\n",
       "      <th>store_nbr</th>\n",
       "      <th>family</th>\n",
       "      <th>sales</th>\n",
       "      <th>onpromotion</th>\n",
       "    </tr>\n",
       "  </thead>\n",
       "  <tbody>\n",
       "    <tr>\n",
       "      <th>0</th>\n",
       "      <td>1945944</td>\n",
       "      <td>2016-01-01</td>\n",
       "      <td>1</td>\n",
       "      <td>AUTOMOTIVE</td>\n",
       "      <td>0.0</td>\n",
       "      <td>0</td>\n",
       "    </tr>\n",
       "    <tr>\n",
       "      <th>1</th>\n",
       "      <td>1945945</td>\n",
       "      <td>2016-01-01</td>\n",
       "      <td>1</td>\n",
       "      <td>BABY CARE</td>\n",
       "      <td>0.0</td>\n",
       "      <td>0</td>\n",
       "    </tr>\n",
       "    <tr>\n",
       "      <th>2</th>\n",
       "      <td>1945946</td>\n",
       "      <td>2016-01-01</td>\n",
       "      <td>1</td>\n",
       "      <td>BEAUTY</td>\n",
       "      <td>0.0</td>\n",
       "      <td>0</td>\n",
       "    </tr>\n",
       "    <tr>\n",
       "      <th>3</th>\n",
       "      <td>1945947</td>\n",
       "      <td>2016-01-01</td>\n",
       "      <td>1</td>\n",
       "      <td>BEVERAGES</td>\n",
       "      <td>0.0</td>\n",
       "      <td>0</td>\n",
       "    </tr>\n",
       "    <tr>\n",
       "      <th>4</th>\n",
       "      <td>1945948</td>\n",
       "      <td>2016-01-01</td>\n",
       "      <td>1</td>\n",
       "      <td>BOOKS</td>\n",
       "      <td>0.0</td>\n",
       "      <td>0</td>\n",
       "    </tr>\n",
       "  </tbody>\n",
       "</table>\n",
       "</div>"
      ],
      "text/plain": [
       "        id       date  store_nbr      family  sales  onpromotion\n",
       "0  1945944 2016-01-01          1  AUTOMOTIVE    0.0            0\n",
       "1  1945945 2016-01-01          1   BABY CARE    0.0            0\n",
       "2  1945946 2016-01-01          1      BEAUTY    0.0            0\n",
       "3  1945947 2016-01-01          1   BEVERAGES    0.0            0\n",
       "4  1945948 2016-01-01          1       BOOKS    0.0            0"
      ]
     },
     "execution_count": 21,
     "metadata": {},
     "output_type": "execute_result"
    }
   ],
   "source": [
    "retail = pd.read_csv(\"../retail/retail.csv\", parse_dates=[\"date\"])\n",
    "retail.head()"
   ]
  },
  {
   "cell_type": "code",
   "execution_count": 26,
   "id": "0affdedd",
   "metadata": {},
   "outputs": [],
   "source": [
    "#retail_agg = retail.groupby(['date']).agg({\"sales\": \"sum\"}).round().iloc[1:10]\n",
    "\n",
    "#retail_agg.assign(yesterday_sales = retail_agg[\"sales\"] /retail_agg[\"sales\"].shift())"
   ]
  },
  {
   "cell_type": "code",
   "execution_count": 23,
   "id": "eaf2e39b",
   "metadata": {},
   "outputs": [],
   "source": [
    "#.diff() method calculates the difference between the values in a series and those\n",
    "#same values shifted a specified number of periods\n",
    "#you can calculate the differences between a point today and the point yesterday"
   ]
  },
  {
   "cell_type": "code",
   "execution_count": 24,
   "id": "84818408",
   "metadata": {},
   "outputs": [],
   "source": [
    "#dates - dates.shift(1) = .diff() method"
   ]
  },
  {
   "cell_type": "code",
   "execution_count": 30,
   "id": "426ce3fc",
   "metadata": {},
   "outputs": [
    {
     "data": {
      "text/html": [
       "<div>\n",
       "<style scoped>\n",
       "    .dataframe tbody tr th:only-of-type {\n",
       "        vertical-align: middle;\n",
       "    }\n",
       "\n",
       "    .dataframe tbody tr th {\n",
       "        vertical-align: top;\n",
       "    }\n",
       "\n",
       "    .dataframe thead th {\n",
       "        text-align: right;\n",
       "    }\n",
       "</style>\n",
       "<table border=\"1\" class=\"dataframe\">\n",
       "  <thead>\n",
       "    <tr style=\"text-align: right;\">\n",
       "      <th></th>\n",
       "      <th>sales</th>\n",
       "      <th>daily_change</th>\n",
       "    </tr>\n",
       "    <tr>\n",
       "      <th>date</th>\n",
       "      <th></th>\n",
       "      <th></th>\n",
       "    </tr>\n",
       "  </thead>\n",
       "  <tbody>\n",
       "    <tr>\n",
       "      <th>2016-01-02</th>\n",
       "      <td>1066677.0</td>\n",
       "      <td>NaN</td>\n",
       "    </tr>\n",
       "    <tr>\n",
       "      <th>2016-01-03</th>\n",
       "      <td>1226736.0</td>\n",
       "      <td>0.130476</td>\n",
       "    </tr>\n",
       "    <tr>\n",
       "      <th>2016-01-04</th>\n",
       "      <td>955957.0</td>\n",
       "      <td>-0.283254</td>\n",
       "    </tr>\n",
       "    <tr>\n",
       "      <th>2016-01-05</th>\n",
       "      <td>835320.0</td>\n",
       "      <td>-0.144420</td>\n",
       "    </tr>\n",
       "    <tr>\n",
       "      <th>2016-01-06</th>\n",
       "      <td>821686.0</td>\n",
       "      <td>-0.016593</td>\n",
       "    </tr>\n",
       "    <tr>\n",
       "      <th>2016-01-07</th>\n",
       "      <td>653504.0</td>\n",
       "      <td>-0.257354</td>\n",
       "    </tr>\n",
       "    <tr>\n",
       "      <th>2016-01-08</th>\n",
       "      <td>713608.0</td>\n",
       "      <td>0.084226</td>\n",
       "    </tr>\n",
       "    <tr>\n",
       "      <th>2016-01-09</th>\n",
       "      <td>989209.0</td>\n",
       "      <td>0.278607</td>\n",
       "    </tr>\n",
       "    <tr>\n",
       "      <th>2016-01-10</th>\n",
       "      <td>1094694.0</td>\n",
       "      <td>0.096360</td>\n",
       "    </tr>\n",
       "  </tbody>\n",
       "</table>\n",
       "</div>"
      ],
      "text/plain": [
       "                sales  daily_change\n",
       "date                               \n",
       "2016-01-02  1066677.0           NaN\n",
       "2016-01-03  1226736.0      0.130476\n",
       "2016-01-04   955957.0     -0.283254\n",
       "2016-01-05   835320.0     -0.144420\n",
       "2016-01-06   821686.0     -0.016593\n",
       "2016-01-07   653504.0     -0.257354\n",
       "2016-01-08   713608.0      0.084226\n",
       "2016-01-09   989209.0      0.278607\n",
       "2016-01-10  1094694.0      0.096360"
      ]
     },
     "execution_count": 30,
     "metadata": {},
     "output_type": "execute_result"
    }
   ],
   "source": [
    "retail_agg = retail.groupby(['date']).agg({\"sales\": \"sum\"}).round().iloc[1:10]\n",
    "\n",
    "retail_agg.assign(daily_change = retail_agg[\"sales\"].diff() / retail_agg[\"sales\"])"
   ]
  },
  {
   "cell_type": "code",
   "execution_count": null,
   "id": "c481eef0",
   "metadata": {},
   "outputs": [],
   "source": []
  }
 ],
 "metadata": {
  "kernelspec": {
   "display_name": "Python 3 (ipykernel)",
   "language": "python",
   "name": "python3"
  },
  "language_info": {
   "codemirror_mode": {
    "name": "ipython",
    "version": 3
   },
   "file_extension": ".py",
   "mimetype": "text/x-python",
   "name": "python",
   "nbconvert_exporter": "python",
   "pygments_lexer": "ipython3",
   "version": "3.10.9"
  }
 },
 "nbformat": 4,
 "nbformat_minor": 5
}
