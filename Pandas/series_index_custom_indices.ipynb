{
 "cells": [
  {
   "cell_type": "code",
   "execution_count": 2,
   "id": "10fbe0ca",
   "metadata": {},
   "outputs": [],
   "source": [
    "import pandas as pd\n",
    "import numpy as np"
   ]
  },
  {
   "cell_type": "code",
   "execution_count": 4,
   "id": "de793cef",
   "metadata": {},
   "outputs": [
    {
     "data": {
      "text/plain": [
       "0    0\n",
       "1    1\n",
       "2    2\n",
       "3    3\n",
       "4    4\n",
       "dtype: int64"
      ]
     },
     "execution_count": 4,
     "metadata": {},
     "output_type": "execute_result"
    }
   ],
   "source": [
    "my_series = pd.Series(range(5))\n",
    "my_series"
   ]
  },
  {
   "cell_type": "code",
   "execution_count": 5,
   "id": "3947654e",
   "metadata": {},
   "outputs": [
    {
     "data": {
      "text/plain": [
       "3"
      ]
     },
     "execution_count": 5,
     "metadata": {},
     "output_type": "execute_result"
    }
   ],
   "source": [
    "my_series[3]"
   ]
  },
  {
   "cell_type": "code",
   "execution_count": 6,
   "id": "49cbc4e9",
   "metadata": {},
   "outputs": [
    {
     "data": {
      "text/plain": [
       "1    1\n",
       "2    2\n",
       "dtype: int64"
      ]
     },
     "execution_count": 6,
     "metadata": {},
     "output_type": "execute_result"
    }
   ],
   "source": [
    "my_series[1:3]"
   ]
  },
  {
   "cell_type": "code",
   "execution_count": 7,
   "id": "99fbf6ee",
   "metadata": {},
   "outputs": [
    {
     "data": {
      "text/plain": [
       "1    1\n",
       "3    3\n",
       "dtype: int64"
      ]
     },
     "execution_count": 7,
     "metadata": {},
     "output_type": "execute_result"
    }
   ],
   "source": [
    "my_series[1::2]"
   ]
  },
  {
   "cell_type": "code",
   "execution_count": 9,
   "id": "2f860d68",
   "metadata": {},
   "outputs": [
    {
     "data": {
      "text/plain": [
       "Day 0    0\n",
       "Day 1    1\n",
       "Day 2    2\n",
       "Day 3    3\n",
       "Day 4    4\n",
       "dtype: int64"
      ]
     },
     "execution_count": 9,
     "metadata": {},
     "output_type": "execute_result"
    }
   ],
   "source": [
    "my_series = pd.Series(range(5), index=[\"Day 0\", \"Day 1\", \"Day 2\", \"Day 3\", \"Day 4\"])\n",
    "my_series"
   ]
  },
  {
   "cell_type": "code",
   "execution_count": 11,
   "id": "a9ec869a",
   "metadata": {},
   "outputs": [
    {
     "data": {
      "text/plain": [
       "1"
      ]
     },
     "execution_count": 11,
     "metadata": {},
     "output_type": "execute_result"
    }
   ],
   "source": [
    "my_series[\"Day 1\"]"
   ]
  },
  {
   "cell_type": "code",
   "execution_count": 12,
   "id": "b5682193",
   "metadata": {},
   "outputs": [
    {
     "data": {
      "text/plain": [
       "Day 1    1\n",
       "Day 2    2\n",
       "Day 3    3\n",
       "Day 4    4\n",
       "dtype: int64"
      ]
     },
     "execution_count": 12,
     "metadata": {},
     "output_type": "execute_result"
    }
   ],
   "source": [
    "my_series[\"Day 1\":\"Day 4\"]"
   ]
  },
  {
   "cell_type": "code",
   "execution_count": 13,
   "id": "715d5b44",
   "metadata": {},
   "outputs": [
    {
     "data": {
      "text/plain": [
       "Day 0    0\n",
       "Day 2    2\n",
       "Day 4    4\n",
       "dtype: int64"
      ]
     },
     "execution_count": 13,
     "metadata": {},
     "output_type": "execute_result"
    }
   ],
   "source": [
    "my_series[::2]"
   ]
  },
  {
   "cell_type": "code",
   "execution_count": null,
   "id": "9c062866",
   "metadata": {},
   "outputs": [],
   "source": [
    " "
   ]
  }
 ],
 "metadata": {
  "kernelspec": {
   "display_name": "Python 3 (ipykernel)",
   "language": "python",
   "name": "python3"
  },
  "language_info": {
   "codemirror_mode": {
    "name": "ipython",
    "version": 3
   },
   "file_extension": ".py",
   "mimetype": "text/x-python",
   "name": "python",
   "nbconvert_exporter": "python",
   "pygments_lexer": "ipython3",
   "version": "3.10.9"
  }
 },
 "nbformat": 4,
 "nbformat_minor": 5
}
