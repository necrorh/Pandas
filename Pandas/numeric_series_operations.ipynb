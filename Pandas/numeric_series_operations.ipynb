{
 "cells": [
  {
   "cell_type": "code",
   "execution_count": 2,
   "id": "d51845ba",
   "metadata": {},
   "outputs": [],
   "source": [
    "import pandas as pd\n",
    "import numpy as np"
   ]
  },
  {
   "cell_type": "code",
   "execution_count": 3,
   "id": "3dd689ee",
   "metadata": {},
   "outputs": [],
   "source": [
    "# '+'=.add// '-'=.sub()// '*'=.mul()// '/'=.div()//'//' floor division .floordiv()\n",
    "# modulo '%' .mod() , exponetiation '**' .pow()"
   ]
  },
  {
   "cell_type": "code",
   "execution_count": 4,
   "id": "4fd8bbfb",
   "metadata": {},
   "outputs": [
    {
     "data": {
      "text/plain": [
       "day 0    1.0\n",
       "day 1    NaN\n",
       "day 2    2.0\n",
       "day 3    3.0\n",
       "day 4    4.0\n",
       "dtype: float64"
      ]
     },
     "execution_count": 4,
     "metadata": {},
     "output_type": "execute_result"
    }
   ],
   "source": [
    "my_series = pd.Series(\n",
    "    [1, np.NaN, 2, 3, 4], index=[\"day 0\", \"day 1\", \"day 2\", \"day 3\", \"day 4\"]\n",
    ")\n",
    "\n",
    "my_series"
   ]
  },
  {
   "cell_type": "code",
   "execution_count": 5,
   "id": "eab9fd6c",
   "metadata": {},
   "outputs": [
    {
     "data": {
      "text/plain": [
       "day 0    2.0\n",
       "day 1    NaN\n",
       "day 2    3.0\n",
       "day 3    4.0\n",
       "day 4    5.0\n",
       "dtype: float64"
      ]
     },
     "execution_count": 5,
     "metadata": {},
     "output_type": "execute_result"
    }
   ],
   "source": [
    "my_series + 1"
   ]
  },
  {
   "cell_type": "code",
   "execution_count": 11,
   "id": "4725caae",
   "metadata": {},
   "outputs": [],
   "source": [
    "my_series2 = my_series.add(1, fill_value=0).astype('int')"
   ]
  },
  {
   "cell_type": "code",
   "execution_count": 13,
   "id": "632e18b0",
   "metadata": {},
   "outputs": [
    {
     "data": {
      "text/plain": [
       "day 0    1.0\n",
       "day 1    0.5\n",
       "day 2    1.5\n",
       "day 3    2.0\n",
       "day 4    2.5\n",
       "dtype: float64"
      ]
     },
     "execution_count": 13,
     "metadata": {},
     "output_type": "execute_result"
    }
   ],
   "source": [
    "my_series2 / 2"
   ]
  },
  {
   "cell_type": "code",
   "execution_count": 18,
   "id": "9dadb472",
   "metadata": {},
   "outputs": [
    {
     "data": {
      "text/plain": [
       "day 0    1\n",
       "day 1    0\n",
       "day 2    1\n",
       "day 3    2\n",
       "day 4    2\n",
       "dtype: int32"
      ]
     },
     "execution_count": 18,
     "metadata": {},
     "output_type": "execute_result"
    }
   ],
   "source": [
    "my_series2 // 2"
   ]
  },
  {
   "cell_type": "code",
   "execution_count": 19,
   "id": "b3b27162",
   "metadata": {},
   "outputs": [
    {
     "data": {
      "text/plain": [
       "day 0    3.0\n",
       "day 1    NaN\n",
       "day 2    5.0\n",
       "day 3    7.0\n",
       "day 4    9.0\n",
       "dtype: float64"
      ]
     },
     "execution_count": 19,
     "metadata": {},
     "output_type": "execute_result"
    }
   ],
   "source": [
    "my_series2 + my_series"
   ]
  },
  {
   "cell_type": "code",
   "execution_count": 21,
   "id": "54cf71cd",
   "metadata": {},
   "outputs": [
    {
     "data": {
      "text/plain": [
       "day 0    3.0\n",
       "day 1    1.0\n",
       "day 2    5.0\n",
       "day 3    7.0\n",
       "day 4    9.0\n",
       "dtype: float64"
      ]
     },
     "execution_count": 21,
     "metadata": {},
     "output_type": "execute_result"
    }
   ],
   "source": [
    "my_series.add(my_series2, fill_value=0)"
   ]
  },
  {
   "cell_type": "code",
   "execution_count": null,
   "id": "84d74b88",
   "metadata": {},
   "outputs": [],
   "source": []
  }
 ],
 "metadata": {
  "kernelspec": {
   "display_name": "Python 3 (ipykernel)",
   "language": "python",
   "name": "python3"
  },
  "language_info": {
   "codemirror_mode": {
    "name": "ipython",
    "version": 3
   },
   "file_extension": ".py",
   "mimetype": "text/x-python",
   "name": "python",
   "nbconvert_exporter": "python",
   "pygments_lexer": "ipython3",
   "version": "3.10.9"
  }
 },
 "nbformat": 4,
 "nbformat_minor": 5
}
