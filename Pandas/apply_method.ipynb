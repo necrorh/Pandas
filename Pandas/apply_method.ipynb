{
 "cells": [
  {
   "cell_type": "code",
   "execution_count": 3,
   "id": "219a52d0",
   "metadata": {},
   "outputs": [],
   "source": [
    "import pandas as pd\n",
    "import numpy as np"
   ]
  },
  {
   "cell_type": "code",
   "execution_count": 4,
   "id": "1a199869",
   "metadata": {},
   "outputs": [],
   "source": [
    "#.apply() method lets you apply custom functions\n",
    "#will not be vectorized it's not efficent as native functions\n",
    "# lambda functions for one-off tasks"
   ]
  },
  {
   "cell_type": "code",
   "execution_count": 5,
   "id": "93131b9c",
   "metadata": {},
   "outputs": [
    {
     "data": {
      "text/plain": [
       "0    day 0\n",
       "1    day 0\n",
       "2    day 2\n",
       "3    day 2\n",
       "4    day 4\n",
       "dtype: object"
      ]
     },
     "execution_count": 5,
     "metadata": {},
     "output_type": "execute_result"
    }
   ],
   "source": [
    "string_series = pd.Series(['day 0', 'day 0', 'day 2', 'day 2', 'day 4'])\n",
    "string_series"
   ]
  },
  {
   "cell_type": "code",
   "execution_count": 6,
   "id": "1e3314b4",
   "metadata": {},
   "outputs": [
    {
     "data": {
      "text/plain": [
       "0    0\n",
       "1    0\n",
       "2    2\n",
       "3    2\n",
       "4    4\n",
       "dtype: object"
      ]
     },
     "execution_count": 6,
     "metadata": {},
     "output_type": "execute_result"
    }
   ],
   "source": [
    "string_series.apply(lambda x: x[-1])"
   ]
  },
  {
   "cell_type": "code",
   "execution_count": 7,
   "id": "9cb57c8b",
   "metadata": {},
   "outputs": [
    {
     "data": {
      "text/plain": [
       "0    0\n",
       "1    0\n",
       "2    2\n",
       "3    2\n",
       "4    4\n",
       "dtype: object"
      ]
     },
     "execution_count": 7,
     "metadata": {},
     "output_type": "execute_result"
    }
   ],
   "source": [
    "string_series.str[-1]"
   ]
  },
  {
   "cell_type": "code",
   "execution_count": 8,
   "id": "f4e16568",
   "metadata": {},
   "outputs": [],
   "source": [
    "def search(string, looking_for):\n",
    "    if looking_for in string:\n",
    "        return \"Found It!\"\n",
    "    return \"Nope \""
   ]
  },
  {
   "cell_type": "code",
   "execution_count": 9,
   "id": "9029c2c1",
   "metadata": {},
   "outputs": [
    {
     "data": {
      "text/plain": [
       "0        Nope \n",
       "1        Nope \n",
       "2    Found It!\n",
       "3    Found It!\n",
       "4        Nope \n",
       "dtype: object"
      ]
     },
     "execution_count": 9,
     "metadata": {},
     "output_type": "execute_result"
    }
   ],
   "source": [
    "string_series.apply(search, args='2')"
   ]
  },
  {
   "cell_type": "code",
   "execution_count": 12,
   "id": "68a5bf10",
   "metadata": {},
   "outputs": [
    {
     "data": {
      "text/plain": [
       "0    Found It!\n",
       "1    Found It!\n",
       "2        day 2\n",
       "3        day 2\n",
       "4    Found It!\n",
       "dtype: object"
      ]
     },
     "execution_count": 12,
     "metadata": {},
     "output_type": "execute_result"
    }
   ],
   "source": [
    "string_series.where(\n",
    "    string_series.str.contains(\"2\"), \"Nope!\").where(\n",
    "    string_series.str.contains(\"2\"), \"Found It!\")"
   ]
  },
  {
   "cell_type": "code",
   "execution_count": 16,
   "id": "0e292bda",
   "metadata": {},
   "outputs": [
    {
     "data": {
      "text/plain": [
       "0        Nope!\n",
       "1        Nope!\n",
       "2    Found It!\n",
       "3    Found It!\n",
       "4        Nope!\n",
       "dtype: object"
      ]
     },
     "execution_count": 16,
     "metadata": {},
     "output_type": "execute_result"
    }
   ],
   "source": [
    "pd.Series((np.where(string_series.str.contains(\"2\"), \"Found It!\", \"Nope!\")))"
   ]
  },
  {
   "cell_type": "code",
   "execution_count": null,
   "id": "5459c585",
   "metadata": {},
   "outputs": [],
   "source": []
  }
 ],
 "metadata": {
  "kernelspec": {
   "display_name": "Python 3 (ipykernel)",
   "language": "python",
   "name": "python3"
  },
  "language_info": {
   "codemirror_mode": {
    "name": "ipython",
    "version": 3
   },
   "file_extension": ".py",
   "mimetype": "text/x-python",
   "name": "python",
   "nbconvert_exporter": "python",
   "pygments_lexer": "ipython3",
   "version": "3.10.9"
  }
 },
 "nbformat": 4,
 "nbformat_minor": 5
}
