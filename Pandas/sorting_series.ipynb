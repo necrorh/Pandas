{
 "cells": [
  {
   "cell_type": "code",
   "execution_count": 1,
   "id": "9ca1eae2",
   "metadata": {},
   "outputs": [],
   "source": [
    "import pandas as pd\n",
    "import numpy as np"
   ]
  },
  {
   "cell_type": "code",
   "execution_count": 2,
   "id": "d2f3743a",
   "metadata": {},
   "outputs": [],
   "source": [
    "#\".sort_values\"(küçükten büyüğe sıralar)-.sort_values(ascending=False)(büyükten küçüğe sıralar)\n",
    "#\".sort_index() (alfabetik sıraya göre sıralar)\" '.sort_index(ascending=False tersten alfabetik sırayla sıralar)'"
   ]
  },
  {
   "cell_type": "code",
   "execution_count": 7,
   "id": "9b07d09a",
   "metadata": {},
   "outputs": [
    {
     "data": {
      "text/plain": [
       "Day 0    1\n",
       "Day 1    0\n",
       "Day 2    2\n",
       "Day 3    3\n",
       "Day 4    4\n",
       "dtype: int64"
      ]
     },
     "execution_count": 7,
     "metadata": {},
     "output_type": "execute_result"
    }
   ],
   "source": [
    "my_series = pd.Series(\n",
    "    [1, 0, 2, 3, 4], index=[\"Day 0\", \"Day 1\", \"Day 2\", \"Day 3\", \"Day 4\"])\n",
    "my_series"
   ]
  },
  {
   "cell_type": "code",
   "execution_count": 11,
   "id": "da82fb6f",
   "metadata": {},
   "outputs": [
    {
     "data": {
      "text/plain": [
       "Day 4    4\n",
       "Day 3    3\n",
       "Day 2    2\n",
       "Day 0    1\n",
       "Day 1    0\n",
       "dtype: int64"
      ]
     },
     "execution_count": 11,
     "metadata": {},
     "output_type": "execute_result"
    }
   ],
   "source": [
    "my_series.sort_values(ascending=False)"
   ]
  },
  {
   "cell_type": "code",
   "execution_count": 24,
   "id": "bd2b6d1c",
   "metadata": {},
   "outputs": [
    {
     "data": {
      "text/plain": [
       "Day 0    1\n",
       "Day 1    0\n",
       "Day 2    2\n",
       "Day 3    3\n",
       "Day 4    4\n",
       "dtype: int64"
      ]
     },
     "execution_count": 24,
     "metadata": {},
     "output_type": "execute_result"
    }
   ],
   "source": [
    "my_series.sort_index()"
   ]
  },
  {
   "cell_type": "code",
   "execution_count": 31,
   "id": "b9774b05",
   "metadata": {},
   "outputs": [],
   "source": [
    "my_series2 = my_series.sort_values(ascending=True)#, inplace=True)"
   ]
  },
  {
   "cell_type": "code",
   "execution_count": 32,
   "id": "d2b7d9a3",
   "metadata": {},
   "outputs": [
    {
     "data": {
      "text/plain": [
       "Day 1    0\n",
       "Day 0    1\n",
       "Day 2    2\n",
       "Day 3    3\n",
       "Day 4    4\n",
       "dtype: int64"
      ]
     },
     "execution_count": 32,
     "metadata": {},
     "output_type": "execute_result"
    }
   ],
   "source": [
    "my_series2"
   ]
  },
  {
   "cell_type": "code",
   "execution_count": 13,
   "id": "63645f7c",
   "metadata": {},
   "outputs": [],
   "source": []
  },
  {
   "cell_type": "code",
   "execution_count": null,
   "id": "a2c3061a",
   "metadata": {},
   "outputs": [],
   "source": []
  }
 ],
 "metadata": {
  "kernelspec": {
   "display_name": "Python 3 (ipykernel)",
   "language": "python",
   "name": "python3"
  },
  "language_info": {
   "codemirror_mode": {
    "name": "ipython",
    "version": 3
   },
   "file_extension": ".py",
   "mimetype": "text/x-python",
   "name": "python",
   "nbconvert_exporter": "python",
   "pygments_lexer": "ipython3",
   "version": "3.10.9"
  }
 },
 "nbformat": 4,
 "nbformat_minor": 5
}
