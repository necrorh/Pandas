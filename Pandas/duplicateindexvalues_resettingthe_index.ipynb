{
 "cells": [
  {
   "cell_type": "code",
   "execution_count": 1,
   "id": "fdf12d4e",
   "metadata": {},
   "outputs": [],
   "source": [
    "import pandas as pd\n",
    "import numpy as np"
   ]
  },
  {
   "cell_type": "code",
   "execution_count": 2,
   "id": "1476320a",
   "metadata": {},
   "outputs": [],
   "source": [
    "#duplicate index values are generally not advised\n",
    "#duplicate index values in a pandas series or  dataframe\n",
    "#accessing these indices by their label using .loc[] returns all corresponding rows"
   ]
  },
  {
   "cell_type": "code",
   "execution_count": 6,
   "id": "14f49b1e",
   "metadata": {},
   "outputs": [
    {
     "data": {
      "text/plain": [
       "Index(['Day 0', 'Day 0', 'Day 0', 'Day 2', 'Day 2'], dtype='object')"
      ]
     },
     "execution_count": 6,
     "metadata": {},
     "output_type": "execute_result"
    }
   ],
   "source": [
    "my_series = pd.Series([0, 1, 2, 3, 4], index=[\"Day 0\", \"Day 0\", \"Day 0\", \"Day 2\", \"Day 2\"])\n",
    "my_series.index"
   ]
  },
  {
   "cell_type": "code",
   "execution_count": 9,
   "id": "52881d53",
   "metadata": {},
   "outputs": [
    {
     "data": {
      "text/plain": [
       "Day 0    0\n",
       "Day 0    1\n",
       "Day 0    2\n",
       "Day 2    3\n",
       "Day 2    4\n",
       "dtype: int64"
      ]
     },
     "execution_count": 9,
     "metadata": {},
     "output_type": "execute_result"
    }
   ],
   "source": [
    "my_series[\"Day 0\":\"Day 2\"]"
   ]
  },
  {
   "cell_type": "code",
   "execution_count": 16,
   "id": "57ee5baa",
   "metadata": {},
   "outputs": [
    {
     "data": {
      "text/plain": [
       "2    2\n",
       "3    3\n",
       "4    4\n",
       "dtype: int64"
      ]
     },
     "execution_count": 16,
     "metadata": {},
     "output_type": "execute_result"
    }
   ],
   "source": [
    "my_series.reset_index(drop=True).loc[2:4]"
   ]
  },
  {
   "cell_type": "code",
   "execution_count": null,
   "id": "56c45de1",
   "metadata": {},
   "outputs": [],
   "source": []
  }
 ],
 "metadata": {
  "kernelspec": {
   "display_name": "Python 3 (ipykernel)",
   "language": "python",
   "name": "python3"
  },
  "language_info": {
   "codemirror_mode": {
    "name": "ipython",
    "version": 3
   },
   "file_extension": ".py",
   "mimetype": "text/x-python",
   "name": "python",
   "nbconvert_exporter": "python",
   "pygments_lexer": "ipython3",
   "version": "3.10.9"
  }
 },
 "nbformat": 4,
 "nbformat_minor": 5
}
