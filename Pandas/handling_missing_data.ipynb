{
 "cells": [
  {
   "cell_type": "code",
   "execution_count": 69,
   "id": "510a0631",
   "metadata": {},
   "outputs": [],
   "source": [
    "import pandas as pd\n",
    "import numpy as np"
   ]
  },
  {
   "cell_type": "code",
   "execution_count": 23,
   "id": "bd8b26f5",
   "metadata": {},
   "outputs": [],
   "source": [
    "#pd.NA(gelişmeye açık) #MORE FLEXIBLE THAN np.nan\n",
    "#.isna() .value_counts() methods let you identify missing data in a series\n",
    "#.dropna()=missing data will delete and .fillna()=replaces nan values with specified value\n",
    "#// methods let you handle missing data\n",
    "#sales_series.fillna(sales_series.mean())"
   ]
  },
  {
   "cell_type": "code",
   "execution_count": 110,
   "id": "8ecf881a",
   "metadata": {},
   "outputs": [
    {
     "data": {
      "text/plain": [
       "0   NaN\n",
       "1   NaN\n",
       "2   NaN\n",
       "3   NaN\n",
       "4   NaN\n",
       "dtype: float64"
      ]
     },
     "execution_count": 110,
     "metadata": {},
     "output_type": "execute_result"
    }
   ],
   "source": [
    "my_series = pd.Series([np.NaN] * 5)\n",
    "my_series"
   ]
  },
  {
   "cell_type": "code",
   "execution_count": 111,
   "id": "d0027f8a",
   "metadata": {},
   "outputs": [
    {
     "data": {
      "text/plain": [
       "1.0"
      ]
     },
     "execution_count": 111,
     "metadata": {},
     "output_type": "execute_result"
    }
   ],
   "source": [
    "my_series.isna().mean()\n"
   ]
  },
  {
   "cell_type": "code",
   "execution_count": 112,
   "id": "7a79e9a7",
   "metadata": {},
   "outputs": [],
   "source": [
    "# my_series.astype(\"int\")"
   ]
  },
  {
   "cell_type": "code",
   "execution_count": 113,
   "id": "89301e33",
   "metadata": {},
   "outputs": [],
   "source": [
    "my_series = pd.Series([pd.NA] * 5)"
   ]
  },
  {
   "cell_type": "code",
   "execution_count": 114,
   "id": "8610d1f3",
   "metadata": {},
   "outputs": [],
   "source": [
    "my_series = pd.Series(range(5))"
   ]
  },
  {
   "cell_type": "code",
   "execution_count": 115,
   "id": "2aa64e46",
   "metadata": {},
   "outputs": [],
   "source": [
    "# my_series = my_series.astype(\"Int64\")\n",
    "# my_series "
   ]
  },
  {
   "cell_type": "code",
   "execution_count": 116,
   "id": "bd30f352",
   "metadata": {},
   "outputs": [],
   "source": [
    "# my_series.value_counts(dropna=False)\n"
   ]
  },
  {
   "cell_type": "code",
   "execution_count": 117,
   "id": "c56ad8d9",
   "metadata": {},
   "outputs": [],
   "source": [
    "my_series.loc[1:2] = pd.NA"
   ]
  },
  {
   "cell_type": "code",
   "execution_count": 118,
   "id": "0e908727",
   "metadata": {},
   "outputs": [
    {
     "data": {
      "text/plain": [
       "0    0.0\n",
       "1    NaN\n",
       "2    NaN\n",
       "3    3.0\n",
       "4    4.0\n",
       "dtype: float64"
      ]
     },
     "execution_count": 118,
     "metadata": {},
     "output_type": "execute_result"
    }
   ],
   "source": [
    "my_series"
   ]
  },
  {
   "cell_type": "code",
   "execution_count": 119,
   "id": "67db87fb",
   "metadata": {},
   "outputs": [
    {
     "data": {
      "text/plain": [
       "0    False\n",
       "1     True\n",
       "2     True\n",
       "3    False\n",
       "4    False\n",
       "dtype: bool"
      ]
     },
     "execution_count": 119,
     "metadata": {},
     "output_type": "execute_result"
    }
   ],
   "source": [
    "my_series.isna()"
   ]
  },
  {
   "cell_type": "code",
   "execution_count": 120,
   "id": "82b65437",
   "metadata": {},
   "outputs": [
    {
     "data": {
      "text/plain": [
       "NaN    2\n",
       "0.0    1\n",
       "3.0    1\n",
       "4.0    1\n",
       "dtype: int64"
      ]
     },
     "execution_count": 120,
     "metadata": {},
     "output_type": "execute_result"
    }
   ],
   "source": [
    "my_series.value_counts(dropna=False)"
   ]
  },
  {
   "cell_type": "code",
   "execution_count": 121,
   "id": "0d407161",
   "metadata": {},
   "outputs": [
    {
     "data": {
      "text/plain": [
       "0    0.0\n",
       "1    0.0\n",
       "2    0.0\n",
       "3    3.0\n",
       "4    4.0\n",
       "dtype: float64"
      ]
     },
     "execution_count": 121,
     "metadata": {},
     "output_type": "execute_result"
    }
   ],
   "source": [
    "my_series.fillna(0)"
   ]
  },
  {
   "cell_type": "code",
   "execution_count": 122,
   "id": "ccaaedc8",
   "metadata": {},
   "outputs": [
    {
     "data": {
      "text/plain": [
       "0    0.000000\n",
       "1    2.333333\n",
       "2    2.333333\n",
       "3    3.000000\n",
       "4    4.000000\n",
       "dtype: float64"
      ]
     },
     "execution_count": 122,
     "metadata": {},
     "output_type": "execute_result"
    }
   ],
   "source": [
    "my_series.fillna(my_series.mean())"
   ]
  },
  {
   "cell_type": "code",
   "execution_count": 123,
   "id": "29aed84f",
   "metadata": {},
   "outputs": [
    {
     "data": {
      "text/plain": [
       "0    0.0\n",
       "3    3.0\n",
       "4    4.0\n",
       "dtype: float64"
      ]
     },
     "execution_count": 123,
     "metadata": {},
     "output_type": "execute_result"
    }
   ],
   "source": [
    "my_series.dropna()"
   ]
  },
  {
   "cell_type": "code",
   "execution_count": 124,
   "id": "f3108b79",
   "metadata": {},
   "outputs": [
    {
     "data": {
      "text/plain": [
       "0    0.0\n",
       "1    3.0\n",
       "2    4.0\n",
       "dtype: float64"
      ]
     },
     "execution_count": 124,
     "metadata": {},
     "output_type": "execute_result"
    }
   ],
   "source": [
    "my_series.dropna().reset_index(drop=True)"
   ]
  },
  {
   "cell_type": "code",
   "execution_count": null,
   "id": "960b4c15",
   "metadata": {},
   "outputs": [],
   "source": []
  },
  {
   "cell_type": "code",
   "execution_count": null,
   "id": "16bf5974",
   "metadata": {},
   "outputs": [],
   "source": []
  }
 ],
 "metadata": {
  "kernelspec": {
   "display_name": "Python 3 (ipykernel)",
   "language": "python",
   "name": "python3"
  },
  "language_info": {
   "codemirror_mode": {
    "name": "ipython",
    "version": 3
   },
   "file_extension": ".py",
   "mimetype": "text/x-python",
   "name": "python",
   "nbconvert_exporter": "python",
   "pygments_lexer": "ipython3",
   "version": "3.10.9"
  }
 },
 "nbformat": 4,
 "nbformat_minor": 5
}
