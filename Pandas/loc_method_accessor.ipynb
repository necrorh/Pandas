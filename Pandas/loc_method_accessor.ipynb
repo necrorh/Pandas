{
 "cells": [
  {
   "cell_type": "code",
   "execution_count": 2,
   "id": "96f95857",
   "metadata": {},
   "outputs": [],
   "source": [
    "import pandas as pd\n",
    "import numpy as np"
   ]
  },
  {
   "cell_type": "code",
   "execution_count": 1,
   "id": "de99e706",
   "metadata": {},
   "outputs": [],
   "source": [
    "# .loc[] method is preferred way to access values by their custom labels\n",
    "# df.loc[row label, column label]\n",
    "# the .loc method workds even when the indices are integers but if they are custom integers not ordered from 0 to n-1 the rows will be returned based on the labels themselves and not their numeric position"
   ]
  },
  {
   "cell_type": "code",
   "execution_count": 4,
   "id": "0d19522b",
   "metadata": {},
   "outputs": [
    {
     "data": {
      "text/plain": [
       "Day 0    0\n",
       "Day 1    1\n",
       "Day 2    2\n",
       "Day 3    3\n",
       "Day 4    4\n",
       "dtype: int64"
      ]
     },
     "execution_count": 4,
     "metadata": {},
     "output_type": "execute_result"
    }
   ],
   "source": [
    "my_series = pd.Series(\n",
    "    [0, 1, 2, 3, 4], index=[\"Day 0\", \"Day 1\", \"Day 2\", \"Day 3\", \"Day 4\"]\n",
    ")\n",
    "my_series"
   ]
  },
  {
   "cell_type": "code",
   "execution_count": 9,
   "id": "d551093a",
   "metadata": {},
   "outputs": [
    {
     "data": {
      "text/plain": [
       "Day 1    1\n",
       "Day 2    2\n",
       "Day 3    3\n",
       "dtype: int64"
      ]
     },
     "execution_count": 9,
     "metadata": {},
     "output_type": "execute_result"
    }
   ],
   "source": [
    "my_series.loc[\"Day 1\": \"Day 3\"]"
   ]
  },
  {
   "cell_type": "code",
   "execution_count": 14,
   "id": "1d02ddfe",
   "metadata": {},
   "outputs": [],
   "source": [
    "my_series.index = [0, 2, 3, 100, 5]"
   ]
  },
  {
   "cell_type": "code",
   "execution_count": 25,
   "id": "8947eaf6",
   "metadata": {},
   "outputs": [
    {
     "data": {
      "text/plain": [
       "0      0\n",
       "2      1\n",
       "3      2\n",
       "100    3\n",
       "5      4\n",
       "dtype: int64"
      ]
     },
     "execution_count": 25,
     "metadata": {},
     "output_type": "execute_result"
    }
   ],
   "source": [
    "my_series.loc[0:5]"
   ]
  },
  {
   "cell_type": "code",
   "execution_count": 24,
   "id": "7a2840b6",
   "metadata": {},
   "outputs": [
    {
     "data": {
      "text/plain": [
       "0      0\n",
       "2      1\n",
       "100    3\n",
       "5      4\n",
       "dtype: int64"
      ]
     },
     "execution_count": 24,
     "metadata": {},
     "output_type": "execute_result"
    }
   ],
   "source": [
    "my_series[my_series != 2] #2.sayıyı siliyor"
   ]
  },
  {
   "cell_type": "code",
   "execution_count": 20,
   "id": "53304827",
   "metadata": {},
   "outputs": [
    {
     "data": {
      "text/plain": [
       "0    0\n",
       "1    1\n",
       "2    2\n",
       "3    3\n",
       "dtype: int64"
      ]
     },
     "execution_count": 20,
     "metadata": {},
     "output_type": "execute_result"
    }
   ],
   "source": [
    "my_series.reset_index(drop=True).loc[:3]"
   ]
  },
  {
   "cell_type": "code",
   "execution_count": null,
   "id": "ed243d7b",
   "metadata": {},
   "outputs": [],
   "source": []
  }
 ],
 "metadata": {
  "kernelspec": {
   "display_name": "Python 3 (ipykernel)",
   "language": "python",
   "name": "python3"
  },
  "language_info": {
   "codemirror_mode": {
    "name": "ipython",
    "version": 3
   },
   "file_extension": ".py",
   "mimetype": "text/x-python",
   "name": "python",
   "nbconvert_exporter": "python",
   "pygments_lexer": "ipython3",
   "version": "3.10.9"
  }
 },
 "nbformat": 4,
 "nbformat_minor": 5
}
